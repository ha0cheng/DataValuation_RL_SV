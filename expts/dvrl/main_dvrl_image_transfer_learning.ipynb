{
 "cells": [
  {
   "cell_type": "markdown",
   "metadata": {},
   "source": [
    "Copyright 2019 The Google Research Authors.\n",
    "\n",
    "Licensed under the Apache License, Version 2.0 (the \"License\");\n",
    "you may not use this file except in compliance with the License.\n",
    "You may obtain a copy of the License at\n",
    "\n",
    "     http://www.apache.org/licenses/LICENSE-2.0\n",
    "\n",
    "Unless required by applicable law or agreed to in writing, software\n",
    "distributed under the License is distributed on an \"AS IS\" BASIS,\n",
    "WITHOUT WARRANTIES OR CONDITIONS OF ANY KIND, either express or implied.\n",
    "See the License for the specific language governing permissions and\n",
    "limitations under the License."
   ]
  },
  {
   "cell_type": "markdown",
   "metadata": {},
   "source": [
    "# DVRL for Corrupted Sample Discovery and Robust Learning with Transfer Learning on Image Data\n",
    "\n",
    " * Jinsung Yoon, Sercan O Arik, Tomas Pfister, \"Data Valuation using Reinforcement Learning\", arXiv preprint arXiv:1909.11671 (2019) - https://arxiv.org/abs/1909.11671\n",
    "\n",
    "This notebook describes the user-guide of corrupted sample discovery and robust learning **with transfer learning on image data** applications using \"Data Valuation using Reinforcement Learning (DVRL)\". We use Inception-v3 model (pre-trained on Imagenet dataset (http://www.image-net.org/)) as the encoder model to encode image data.\n",
    "\n",
    "There are some scenarios where training samples may contain corrupted samples, e.g. due to cheap label collection methods. An automated corrupted sample discovery method would be highly beneficial for distinguishing samples with clean vs. noisy labels. Data valuation can be used in this setting by having a small clean validation set to assign low data values to the potential samples with noisy labels. With an optimal data value estimator, all noisy labels would get the lowest data values. \n",
    "\n",
    "DVRL can also reliably learn with noisy data in an end-to-end way. Ideally, noisy samples should get low data values as DVRL converges and a high performance model can be returned.\n",
    "\n",
    "You need:\n",
    "\n",
    "**Training set** (low-quality data (e.g. noisy data)) / **Validation set** (high-quality data (e.g. clean data)) / **Testing set** (high-quality data (e.g. clean data)) \n",
    " * If there is no explicit validation set, you can split a small portion of testing set as the validation set. \n",
    " * Note that training set does not have to be low quality for DVRL; however, in this notebook, we use a low quality training set for a clearer demonstration as the samples are easier to distinguish in terms of their values.\n",
    " * If you have your own training / validation / testing datasets, you can put them under './repo/data_files/' directory with 'train.npz', 'valid.npz', 'test.npz' names.\n",
    " * In this notebook, we use CIFAR10 and CIFAR100 datasets (https://www.cs.toronto.edu/~kriz/cifar.html) as examples."
   ]
  },
  {
   "cell_type": "markdown",
   "metadata": {},
   "source": [
    "## Prerequisite\n",
    "\n",
    "Clone https://github.com/google-research/google-research.git to the current directory."
   ]
  },
  {
   "cell_type": "code",
   "execution_count": 1,
   "metadata": {},
   "outputs": [],
   "source": [
    "import os\n",
    "from git import Repo\n",
    "\n",
    "# Current working directory\n",
    "repo_dir = os.getcwd() + '/repo'\n",
    "\n",
    "if not os.path.exists(repo_dir):\n",
    "    os.makedirs(repo_dir)\n",
    "\n",
    "# Clones github repository\n",
    "if not os.listdir(repo_dir):\n",
    "    git_url = \"https://github.com/google-research/google-research.git\"\n",
    "    Repo.clone_from(git_url, repo_dir)"
   ]
  },
  {
   "cell_type": "markdown",
   "metadata": {},
   "source": [
    "## Necessary packages and functions call\n",
    "\n",
    " * data_loading: Data loader for image datasets (cifar10 or cifar100 datasets)\n",
    " * keras: Basic packages for defining encoder model and predictor model\n",
    " * dvrl: Data valuation model\n",
    " * dvrl_metrics: Metrics to evaluate the quality of data valuation"
   ]
  },
  {
   "cell_type": "code",
   "execution_count": 1,
   "metadata": {},
   "outputs": [
    {
     "name": "stderr",
     "output_type": "stream",
     "text": [
      "Using TensorFlow backend.\n"
     ]
    }
   ],
   "source": [
    "from dvrl import data_loading, dvrl, dvrl_metrics\n",
    "\n",
    "import keras\n",
    "from keras import applications, layers, models\n",
    "\n",
    "# Sets current directory\n",
    "os.chdir(repo_dir)\n",
    "\n",
    "import numpy as np\n",
    "from sklearn import linear_model\n",
    "import tensorflow as tf\n",
    "\n",
    "import warnings\n",
    "warnings.filterwarnings(\"ignore\")"
   ]
  },
  {
   "cell_type": "markdown",
   "metadata": {},
   "source": [
    "## Data loading & Sample corruption\n",
    "\n",
    " * Create training, validation and testing sets from the image datasets and save them as train.npz, valid.npz, test.npz under './repo/data_files/ directory.\n",
    " * If you have your own train.npz, valid.npz, test.npz, just save them '.repo/data_files/' directory and you can skip this cell."
   ]
  },
  {
   "cell_type": "code",
   "execution_count": 2,
   "metadata": {},
   "outputs": [
    {
     "name": "stdout",
     "output_type": "stream",
     "text": [
      "Finished data loading.\n"
     ]
    }
   ],
   "source": [
    "# Data name: 'cifar10' or 'cifar100' in this notebook\n",
    "data_name = 'cifar10'\n",
    "\n",
    "# The number of training, validation and testing samples\n",
    "dict_no = dict()\n",
    "dict_no['train'] = 4000\n",
    "dict_no['valid'] = 1000\n",
    "dict_no['test'] = 2000\n",
    "\n",
    "# Label noise ratio\n",
    "noise_rate = 0.2\n",
    "\n",
    "# Loads data and corrupts labels\n",
    "noise_idx = data_loading.load_image_data(data_name, dict_no, noise_rate)\n",
    "# noise_idx: ground truth noisy label indices\n",
    "\n",
    "print('Finished data loading.')"
   ]
  },
  {
   "cell_type": "markdown",
   "metadata": {},
   "source": [
    "## Data preprocessing\n",
    "\n",
    " * Extract features and labels from train.npz, valid.npz, test.npz in './repo/data_files/' directory"
   ]
  },
  {
   "cell_type": "code",
   "execution_count": 3,
   "metadata": {},
   "outputs": [
    {
     "name": "stdout",
     "output_type": "stream",
     "text": [
      "Finished data preprocess.\n"
     ]
    }
   ],
   "source": [
    "# Extracts features and labels. \n",
    "x_train, y_train, x_valid, y_valid, x_test, y_test = \\\n",
    "data_loading.load_image_data_from_file('train.npz', 'valid.npz', 'test.npz')\n",
    "\n",
    "print('Finished data preprocess.')"
   ]
  },
  {
   "cell_type": "markdown",
   "metadata": {},
   "source": [
    "## Encode images\n",
    "\n",
    " * Use encoder model (in this notebook, Inception-v3 pre-trained on Imagenet dataset), we encodes the training, validation, and testing images."
   ]
  },
  {
   "cell_type": "code",
   "execution_count": 4,
   "metadata": {},
   "outputs": [
    {
     "name": "stdout",
     "output_type": "stream",
     "text": [
      "WARNING:tensorflow:From /usr/local/google/home/jinsungyoon/anaconda3/lib/python3.7/site-packages/tensorflow/python/framework/op_def_library.py:263: colocate_with (from tensorflow.python.framework.ops) is deprecated and will be removed in a future version.\n",
      "Instructions for updating:\n",
      "Colocations handled automatically by placer.\n",
      "250/250 [==============================] - 328s 1s/step\n"
     ]
    },
    {
     "name": "stderr",
     "output_type": "stream",
     "text": [
      "Exception ignored in: <function BaseSession._Callable.__del__ at 0x7fa61201cf28>\n",
      "Traceback (most recent call last):\n",
      "  File \"/usr/local/google/home/jinsungyoon/anaconda3/lib/python3.7/site-packages/tensorflow/python/client/session.py\", line 1455, in __del__\n",
      "    self._session._session, self._handle, status)\n",
      "  File \"/usr/local/google/home/jinsungyoon/anaconda3/lib/python3.7/site-packages/tensorflow/python/framework/errors_impl.py\", line 528, in __exit__\n",
      "    c_api.TF_GetCode(self.status.status))\n",
      "tensorflow.python.framework.errors_impl.CancelledError: Session has been closed.\n"
     ]
    },
    {
     "name": "stdout",
     "output_type": "stream",
     "text": [
      "63/62 [==============================] - 85s 1s/step\n",
      "125/125 [==============================] - 86s 691ms/step\n",
      "Finished data encoding\n"
     ]
    }
   ],
   "source": [
    "# Encodes samples\n",
    "# The preprocessing function used on the pre-training dataset is also applied while encoding the inputs.\n",
    "preprocess_function = applications.inception_v3.preprocess_input\n",
    "input_shape = (299, 299)\n",
    "\n",
    "# Defines the encoder model to learn the representations for image dataset. In this example, we are considering the InceptionV3 model trained on\n",
    "# ImageNet dataset, followed by simple average pooling-based downsampling.\n",
    "\n",
    "def encoder_model(architecture='inception_v3', pre_trained_dataset='imagenet', downsample_factor=8):\n",
    "    \"\"\"Returns encoder model.\n",
    "\n",
    "    Args:\n",
    "      architecture: Base architecture of encoder model (e.g. 'inception_v3')\n",
    "      pre_trained_dataset: The dataset used to pre-train the encoder model\n",
    "      downsample_factor: Downsample factor for the outputs\n",
    "    \"\"\"\n",
    "    tf_input = layers.Input(shape=(input_shape[0], input_shape[1], 3))\n",
    "    if architecture == 'inception_v3':\n",
    "        model = applications.inception_v3.InceptionV3(\n",
    "            input_tensor=tf_input, weights=pre_trained_dataset, include_top=False)\n",
    "        output_pooled = layers.AveragePooling2D((downsample_factor, downsample_factor),\n",
    "                                                strides=(downsample_factor, downsample_factor))(model.output)\n",
    "    return models.Model(model.input, output_pooled)\n",
    "\n",
    "# Encodes training samples\n",
    "enc_x_train = data_loading.encode_image(x_train, encoder_model, input_shape, preprocess_function)\n",
    "# Encodes validation samples\n",
    "enc_x_valid = data_loading.encode_image(x_valid, encoder_model, input_shape, preprocess_function)\n",
    "# Encodes testing samples\n",
    "enc_x_test = data_loading.encode_image(x_test, encoder_model, input_shape, preprocess_function)\n",
    "\n",
    "print('Finished data encoding')"
   ]
  },
  {
   "cell_type": "markdown",
   "metadata": {},
   "source": [
    "## Run DVRL\n",
    "\n",
    "1. **Input**: \n",
    "\n",
    " * data valuator network parameters: Set network parameters of data valuator.\n",
    " * pred_model: The predictor model that maps output from the input. Any machine learning model (e.g. a neural network or ensemble decision tree) can be used as the predictor model, as long as it has fit, and predict (for regression)/predict_proba (for classification) as its subfunctions. Fit can be implemented using multiple backpropagation iterations.\n",
    " \n",
    " \n",
    "2. **Output**:\n",
    " * data_valuator: Function that uses training set as inputs to estimate data values\n",
    " * dvrl_predictor: Function that predicts labels of the testing samples\n",
    " * dve_out: Estimated data values for all training samples"
   ]
  },
  {
   "cell_type": "code",
   "execution_count": 5,
   "metadata": {},
   "outputs": [
    {
     "name": "stdout",
     "output_type": "stream",
     "text": [
      "WARNING:tensorflow:From /usr/local/google/home/jinsungyoon/anaconda3/lib/python3.7/site-packages/tensorflow/python/ops/math_ops.py:3066: to_int32 (from tensorflow.python.ops.math_ops) is deprecated and will be removed in a future version.\n",
      "Instructions for updating:\n",
      "Use tf.cast instead.\n"
     ]
    },
    {
     "name": "stderr",
     "output_type": "stream",
     "text": [
      "Exception ignored in: <function BaseSession._Callable.__del__ at 0x7fa61201cf28>\n",
      "Traceback (most recent call last):\n",
      "  File \"/usr/local/google/home/jinsungyoon/anaconda3/lib/python3.7/site-packages/tensorflow/python/client/session.py\", line 1455, in __del__\n",
      "    self._session._session, self._handle, status)\n",
      "  File \"/usr/local/google/home/jinsungyoon/anaconda3/lib/python3.7/site-packages/tensorflow/python/framework/errors_impl.py\", line 528, in __exit__\n",
      "    c_api.TF_GetCode(self.status.status))\n",
      "tensorflow.python.framework.errors_impl.CancelledError: Session has been closed.\n"
     ]
    },
    {
     "name": "stdout",
     "output_type": "stream",
     "text": [
      "\n",
      "WARNING: The TensorFlow contrib module will not be included in TensorFlow 2.0.\n",
      "For more information, please see:\n",
      "  * https://github.com/tensorflow/community/blob/master/rfcs/20180907-contrib-sunset.md\n",
      "  * https://github.com/tensorflow/addons\n",
      "If you depend on functionality not listed there, please file an issue.\n",
      "\n"
     ]
    },
    {
     "name": "stderr",
     "output_type": "stream",
     "text": [
      "100%|██████████| 1000/1000 [29:39<00:00,  1.73s/it]\n"
     ]
    },
    {
     "name": "stdout",
     "output_type": "stream",
     "text": [
      "Finished dvrl training.\n",
      "WARNING:tensorflow:From /usr/local/google/home/jinsungyoon/anaconda3/lib/python3.7/site-packages/tensorflow/python/training/saver.py:1266: checkpoint_exists (from tensorflow.python.training.checkpoint_management) is deprecated and will be removed in a future version.\n",
      "Instructions for updating:\n",
      "Use standard file APIs to check for files with this prefix.\n",
      "INFO:tensorflow:Restoring parameters from ./tmp/model.ckpt\n",
      "Finished data valuation.\n"
     ]
    }
   ],
   "source": [
    "# Resets the graph\n",
    "tf.reset_default_graph()\n",
    "keras.backend.clear_session()\n",
    "\n",
    "# Network parameters\n",
    "parameters = dict()\n",
    "parameters['hidden_dim'] = 100\n",
    "parameters['comb_dim'] = 10\n",
    "parameters['iterations'] = 1000\n",
    "parameters['activation'] = tf.nn.relu\n",
    "parameters['layer_number'] = 5\n",
    "parameters['batch_size'] = 2000\n",
    "parameters['learning_rate'] = 0.01\n",
    "parameters['inner_iterations'] = 100\n",
    "parameters['batch_size_predictor'] = 256\n",
    "\n",
    "# Sets checkpoint file name\n",
    "checkpoint_file_name = './tmp/model.ckpt'\n",
    "\n",
    "# Defines predictive model\n",
    "problem = 'classification'\n",
    "\n",
    "pred_model = keras.models.Sequential()\n",
    "pred_model.add(keras.layers.Dense(len(set(y_train)), activation='softmax'))\n",
    "pred_model.compile(optimizer='adam', loss='categorical_crossentropy',\n",
    "                   metrics=['accuracy'])\n",
    "\n",
    "# Flags for using stochastic gradient descent / pre-trained model\n",
    "flags = {'sgd': True, 'pretrain': False}\n",
    "\n",
    "# Initalizes DVRL\n",
    "dvrl_class = dvrl.Dvrl(enc_x_train, y_train, enc_x_valid, y_valid, \n",
    "                       problem, pred_model, parameters, checkpoint_file_name, flags)\n",
    "\n",
    "# Trains DVRL\n",
    "dvrl_class.train_dvrl('accuracy')\n",
    "\n",
    "print('Finished DVRL training.')\n",
    "\n",
    "# Estimates data values\n",
    "dve_out = dvrl_class.data_valuator(enc_x_train, y_train)\n",
    "\n",
    "# Predicts with DVRL\n",
    "y_test_hat = dvrl_class.dvrl_predictor(enc_x_test)\n",
    "\n",
    "print('Finished data valuation.')"
   ]
  },
  {
   "cell_type": "markdown",
   "metadata": {},
   "source": [
    "## Evaluations\n",
    "\n",
    " * In this notebook, we use Logistic Regression (on top of Inception-v3) as the predictive model in DVRL (but we can also replace it with another method for evaluation purposes.\n",
    " * Here, we use average accuracy as the performance metric (we can also replace with other metrics, see metrics.py)."
   ]
  },
  {
   "cell_type": "markdown",
   "metadata": {},
   "source": [
    "### 1. Robust learning\n",
    "\n",
    "DVRL learns robustly although the training data contains low quality/noisy samples, using the guidance from the high quality/clean validation data via reinforcement learning.\n",
    " * Train predictive model with weighted optimization using estimated data values by DVRL as the weights"
   ]
  },
  {
   "cell_type": "code",
   "execution_count": 6,
   "metadata": {},
   "outputs": [
    {
     "name": "stdout",
     "output_type": "stream",
     "text": [
      "DVRL-weighted learning performance: 0.8325\n"
     ]
    }
   ],
   "source": [
    "# Defines evaluation model\n",
    "eval_model = linear_model.LogisticRegression(solver='lbfgs', multi_class='auto', max_iter=200)\n",
    "\n",
    "# Robust learning (DVRL-weighted learning)\n",
    "robust_perf = dvrl_metrics.learn_with_dvrl(dve_out, eval_model, enc_x_train, y_train, \n",
    "                                           enc_x_valid, y_valid, enc_x_test, y_test, 'accuracy')\n",
    "\n",
    "print('DVRL-weighted learning performance: ' + str(np.round(robust_perf, 4)))"
   ]
  },
  {
   "cell_type": "markdown",
   "metadata": {},
   "source": [
    "### 2. Removing high/low valued samples\n",
    "\n",
    "Removing low value samples from the training dataset can improve the predictor model performance, especially in the cases where the training dataset contains corrupted samples. On the other\n",
    "hand, removing high value samples, especially if the dataset is small, would decrease the performance significantly. Overall, the performance after removing high/low value samples is a strong\n",
    "indicator for the quality of data valuation.\n",
    "\n",
    "DVRL can rank the training data samples according to their estimated data value, and **by removing the low value samples we can improve performance, whereas removing the high value samples degrades the performance**.\n",
    "\n",
    " * Train predictive models after removing certain portions of high/low valued training samples\n",
    " * Visualize the results using line graphs (set plot = True).\n",
    " * x-axis: Portions of removed samples\n",
    " * y-axis: Prediction performance (accuracy)\n",
    " * Blue line: Removing low value data, Orange line: Removing high value data"
   ]
  },
  {
   "cell_type": "code",
   "execution_count": 7,
   "metadata": {},
   "outputs": [
    {
     "data": {
      "image/png": "[encoded data removed]",
      "text/plain": [
       "<Figure size 432x540 with 1 Axes>"
      ]
     },
     "metadata": {
      "needs_background": "light"
     },
     "output_type": "display_data"
    }
   ],
   "source": [
    "# Evaluates performance after removing high/low values\n",
    "remove_high_low_performance = \\\n",
    "dvrl_metrics.remove_high_low(dve_out, eval_model, enc_x_train, y_train, \n",
    "                             enc_x_valid, y_valid, enc_x_test, y_test, 'accuracy', plot = True)"
   ]
  },
  {
   "cell_type": "markdown",
   "metadata": {},
   "source": [
    "### 3. Corrupted sample discovery\n",
    "\n",
    "For our synthetically-generated noisy training dataset, we can assess the performance of our method in finding the noisy samples by using the known noise indices. Note that unlike the first two evaluations, this cell is only for academic purposes because you need the ground truth noisy sample indices so if users come with their own .csv files, they cannot use this cell.\n",
    "\n",
    " * Report True Positive Rates (TPR) of corrupted sample discovery.\n",
    " * Visualize the results using line graphs (set plot = True).\n",
    " * x-axis: Portions of inspected samples.\n",
    " * y-axis: True positive rates (TPR) of corrupted sample discovery.\n",
    " * Blue line: DVRL, Orange line: Optimal, Green line: Random."
   ]
  },
  {
   "cell_type": "code",
   "execution_count": 8,
   "metadata": {},
   "outputs": [
    {
     "data": {
      "image/png": "[encoded data removed]",
      "text/plain": [
       "<Figure size 432x540 with 1 Axes>"
      ]
     },
     "metadata": {
      "needs_background": "light"
     },
     "output_type": "display_data"
    }
   ],
   "source": [
    "# If noise_rate is positive value.\n",
    "if noise_rate > 0:\n",
    "    \n",
    "    # Evaluates true positive rates (TPR) of corrupted sample discovery and plot TPRs\n",
    "    noise_discovery_performance = \\\n",
    "    dvrl_metrics.discover_corrupted_sample(dve_out, noise_idx, noise_rate, plot = True)"
   ]
  }
 ],
 "metadata": {
  "kernelspec": {
   "display_name": "Python 3",
   "language": "python",
   "name": "python3"
  },
  "language_info": {
   "codemirror_mode": {
    "name": "ipython",
    "version": 3
   },
   "file_extension": ".py",
   "mimetype": "text/x-python",
   "name": "python",
   "nbconvert_exporter": "python",
   "pygments_lexer": "ipython3",
   "version": "3.7.3"
  }
 },
 "nbformat": 4,
 "nbformat_minor": 2
}
